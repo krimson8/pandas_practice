{
 "cells": [
  {
   "cell_type": "code",
   "execution_count": 2,
   "metadata": {
    "collapsed": true
   },
   "outputs": [],
   "source": [
    "import pandas as pd"
   ]
  },
  {
   "cell_type": "code",
   "execution_count": 8,
   "metadata": {},
   "outputs": [],
   "source": [
    "pokemon = pd.read_csv(\"pokemon.csv\", index_col = \"Pokemon\", squeeze = True)"
   ]
  },
  {
   "cell_type": "code",
   "execution_count": 10,
   "metadata": {},
   "outputs": [
    {
     "data": {
      "text/plain": [
       "Pokemon\n",
       "Bulbasaur    Grass\n",
       "Ivysaur      Grass\n",
       "Venusaur     Grass\n",
       "Name: Type, dtype: object"
      ]
     },
     "execution_count": 10,
     "metadata": {},
     "output_type": "execute_result"
    }
   ],
   "source": [
    "pokemon.head(3)"
   ]
  },
  {
   "cell_type": "code",
   "execution_count": 11,
   "metadata": {},
   "outputs": [
    {
     "data": {
      "text/plain": [
       "'Electric'"
      ]
     },
     "execution_count": 11,
     "metadata": {},
     "output_type": "execute_result"
    }
   ],
   "source": [
    "pokemon[100]"
   ]
  },
  {
   "cell_type": "code",
   "execution_count": 12,
   "metadata": {},
   "outputs": [
    {
     "data": {
      "text/plain": [
       "Pokemon\n",
       "Electrode    Electric\n",
       "Jolteon      Electric\n",
       "Name: Type, dtype: object"
      ]
     },
     "execution_count": 12,
     "metadata": {},
     "output_type": "execute_result"
    }
   ],
   "source": [
    "pokemon[[100, 134]]"
   ]
  },
  {
   "cell_type": "code",
   "execution_count": 13,
   "metadata": {},
   "outputs": [
    {
     "data": {
      "text/plain": [
       "'Grass'"
      ]
     },
     "execution_count": 13,
     "metadata": {},
     "output_type": "execute_result"
    }
   ],
   "source": [
    "pokemon[\"Bulbasaur\"]"
   ]
  },
  {
   "cell_type": "code",
   "execution_count": 14,
   "metadata": {},
   "outputs": [
    {
     "data": {
      "text/plain": [
       "Pokemon\n",
       "Bulbasaur    Grass\n",
       "Charizard     Fire\n",
       "Name: Type, dtype: object"
      ]
     },
     "execution_count": 14,
     "metadata": {},
     "output_type": "execute_result"
    }
   ],
   "source": [
    "pokemon[[\"Bulbasaur\", \"Charizard\"]]"
   ]
  },
  {
   "cell_type": "code",
   "execution_count": 15,
   "metadata": {
    "scrolled": true
   },
   "outputs": [
    {
     "data": {
      "text/plain": [
       "Pokemon\n",
       "Bulbasaur     Grass\n",
       "Ivysaur       Grass\n",
       "Venusaur      Grass\n",
       "Charmander     Fire\n",
       "Charmeleon     Fire\n",
       "Charizard      Fire\n",
       "Name: Type, dtype: object"
      ]
     },
     "execution_count": 15,
     "metadata": {},
     "output_type": "execute_result"
    }
   ],
   "source": [
    "pokemon[\"Bulbasaur\":\"Charizard\"]"
   ]
  },
  {
   "cell_type": "code",
   "execution_count": 16,
   "metadata": {
    "collapsed": true
   },
   "outputs": [],
   "source": [
    "pokemon.sort_index(inplace = True)"
   ]
  },
  {
   "cell_type": "code",
   "execution_count": 17,
   "metadata": {
    "collapsed": true
   },
   "outputs": [
    {
     "data": {
      "text/plain": [
       "Pokemon\n",
       "Abomasnow        Grass\n",
       "Abra           Psychic\n",
       "Absol             Dark\n",
       "Accelgor           Bug\n",
       "Aegislash        Steel\n",
       "Aerodactyl        Rock\n",
       "Aggron           Steel\n",
       "Aipom           Normal\n",
       "Alakazam       Psychic\n",
       "Alomomola        Water\n",
       "Altaria         Dragon\n",
       "Amaura            Rock\n",
       "Ambipom         Normal\n",
       "Amoonguss        Grass\n",
       "Ampharos      Electric\n",
       "Anorith           Rock\n",
       "Arbok           Poison\n",
       "Arcanine          Fire\n",
       "Arceus          Normal\n",
       "Archen            Rock\n",
       "Archeops          Rock\n",
       "Ariados            Bug\n",
       "Armaldo           Rock\n",
       "Aromatisse       Fairy\n",
       "Aron             Steel\n",
       "Articuno           Ice\n",
       "Audino          Normal\n",
       "Aurorus           Rock\n",
       "Avalugg            Ice\n",
       "Axew            Dragon\n",
       "                ...   \n",
       "Weepinbell       Grass\n",
       "Weezing         Poison\n",
       "Whimsicott       Grass\n",
       "Whirlipede         Bug\n",
       "Whiscash         Water\n",
       "Whismur         Normal\n",
       "Wigglytuff      Normal\n",
       "Wingull          Water\n",
       "Wobbuffet      Psychic\n",
       "Woobat         Psychic\n",
       "Wooper           Water\n",
       "Wormadam           Bug\n",
       "Wurmple            Bug\n",
       "Wynaut         Psychic\n",
       "Xatu           Psychic\n",
       "Xerneas          Fairy\n",
       "Yamask           Ghost\n",
       "Yanma              Bug\n",
       "Yanmega            Bug\n",
       "Yveltal           Dark\n",
       "Zangoose        Normal\n",
       "Zapdos        Electric\n",
       "Zebstrika     Electric\n",
       "Zekrom          Dragon\n",
       "Zigzagoon       Normal\n",
       "Zoroark           Dark\n",
       "Zorua             Dark\n",
       "Zubat           Poison\n",
       "Zweilous          Dark\n",
       "Zygarde         Dragon\n",
       "Name: Type, Length: 721, dtype: object"
      ]
     },
     "execution_count": 17,
     "metadata": {},
     "output_type": "execute_result"
    }
   ],
   "source": [
    "pokemon"
   ]
  },
  {
   "cell_type": "code",
   "execution_count": 21,
   "metadata": {},
   "outputs": [
    {
     "data": {
      "text/plain": [
       "'Electric'"
      ]
     },
     "execution_count": 21,
     "metadata": {},
     "output_type": "execute_result"
    }
   ],
   "source": [
    "pokemon.get(key = \"Pikachu\")"
   ]
  },
  {
   "cell_type": "code",
   "execution_count": 22,
   "metadata": {},
   "outputs": [
    {
     "data": {
      "text/plain": [
       "Pokemon\n",
       "Pikachu    Electric\n",
       "Name: Type, dtype: object"
      ]
     },
     "execution_count": 22,
     "metadata": {},
     "output_type": "execute_result"
    }
   ],
   "source": [
    "pokemon.get(key = [\"Pikachu\"])"
   ]
  },
  {
   "cell_type": "code",
   "execution_count": 19,
   "metadata": {
    "collapsed": true
   },
   "outputs": [],
   "source": [
    "pokemon.get(key = \"sohai\")"
   ]
  },
  {
   "cell_type": "code",
   "execution_count": 20,
   "metadata": {},
   "outputs": [
    {
     "data": {
      "text/plain": [
       "'This is not pokemon'"
      ]
     },
     "execution_count": 20,
     "metadata": {},
     "output_type": "execute_result"
    }
   ],
   "source": [
    "pokemon.get(key = \"sohai\", default = \"This is not pokemon\")"
   ]
  },
  {
   "cell_type": "code",
   "execution_count": 23,
   "metadata": {},
   "outputs": [
    {
     "data": {
      "text/plain": [
       "721"
      ]
     },
     "execution_count": 23,
     "metadata": {},
     "output_type": "execute_result"
    }
   ],
   "source": [
    "pokemon.count()"
   ]
  },
  {
   "cell_type": "code",
   "execution_count": 24,
   "metadata": {},
   "outputs": [
    {
     "data": {
      "text/plain": [
       "721"
      ]
     },
     "execution_count": 24,
     "metadata": {},
     "output_type": "execute_result"
    }
   ],
   "source": [
    "len(pokemon)"
   ]
  },
  {
   "cell_type": "code",
   "execution_count": null,
   "metadata": {
    "collapsed": true
   },
   "outputs": [],
   "source": []
  }
 ],
 "metadata": {
  "kernelspec": {
   "display_name": "Python 3",
   "language": "python",
   "name": "python3"
  },
  "language_info": {
   "codemirror_mode": {
    "name": "ipython",
    "version": 3
   },
   "file_extension": ".py",
   "mimetype": "text/x-python",
   "name": "python",
   "nbconvert_exporter": "python",
   "pygments_lexer": "ipython3",
   "version": "3.6.3"
  }
 },
 "nbformat": 4,
 "nbformat_minor": 2
}
