{
 "cells": [
  {
   "cell_type": "code",
   "execution_count": 1,
   "metadata": {
    "collapsed": true
   },
   "outputs": [],
   "source": [
    "import pandas as pd"
   ]
  },
  {
   "cell_type": "code",
   "execution_count": 19,
   "metadata": {},
   "outputs": [],
   "source": [
    "google = pd.read_csv(\"google_stock_price.csv\", squeeze = True)\n",
    "pokemon = pd.read_csv(\"pokemon.csv\", index_col = \"Pokemon\", squeeze = True)"
   ]
  },
  {
   "cell_type": "code",
   "execution_count": 3,
   "metadata": {},
   "outputs": [
    {
     "data": {
      "text/plain": [
       "0    50.12\n",
       "1    54.10\n",
       "2    54.65\n",
       "Name: Stock Price, dtype: float64"
      ]
     },
     "execution_count": 3,
     "metadata": {},
     "output_type": "execute_result"
    }
   ],
   "source": [
    "google.head(3)\n"
   ]
  },
  {
   "cell_type": "code",
   "execution_count": 4,
   "metadata": {},
   "outputs": [
    {
     "data": {
      "text/plain": [
       "3012"
      ]
     },
     "execution_count": 4,
     "metadata": {},
     "output_type": "execute_result"
    }
   ],
   "source": [
    "google.count()"
   ]
  },
  {
   "cell_type": "code",
   "execution_count": 5,
   "metadata": {},
   "outputs": [
    {
     "data": {
      "text/plain": [
       "3012"
      ]
     },
     "execution_count": 5,
     "metadata": {},
     "output_type": "execute_result"
    }
   ],
   "source": [
    "len(google)"
   ]
  },
  {
   "cell_type": "code",
   "execution_count": 6,
   "metadata": {},
   "outputs": [
    {
     "data": {
      "text/plain": [
       "334.31009296148744"
      ]
     },
     "execution_count": 6,
     "metadata": {},
     "output_type": "execute_result"
    }
   ],
   "source": [
    "google.mean()"
   ]
  },
  {
   "cell_type": "code",
   "execution_count": 7,
   "metadata": {},
   "outputs": [
    {
     "data": {
      "text/plain": [
       "334.31009296148744"
      ]
     },
     "execution_count": 7,
     "metadata": {},
     "output_type": "execute_result"
    }
   ],
   "source": [
    "google.sum()/google.count()"
   ]
  },
  {
   "cell_type": "code",
   "execution_count": 8,
   "metadata": {},
   "outputs": [
    {
     "data": {
      "text/plain": [
       "782.22000000000003"
      ]
     },
     "execution_count": 8,
     "metadata": {},
     "output_type": "execute_result"
    }
   ],
   "source": [
    "google.max()"
   ]
  },
  {
   "cell_type": "code",
   "execution_count": 9,
   "metadata": {},
   "outputs": [
    {
     "data": {
      "text/plain": [
       "49.950000000000003"
      ]
     },
     "execution_count": 9,
     "metadata": {},
     "output_type": "execute_result"
    }
   ],
   "source": [
    "google.min()"
   ]
  },
  {
   "cell_type": "code",
   "execution_count": 10,
   "metadata": {},
   "outputs": [
    {
     "data": {
      "text/plain": [
       "283.315"
      ]
     },
     "execution_count": 10,
     "metadata": {},
     "output_type": "execute_result"
    }
   ],
   "source": [
    "google.median()"
   ]
  },
  {
   "cell_type": "code",
   "execution_count": 11,
   "metadata": {},
   "outputs": [
    {
     "data": {
      "text/plain": [
       "0    291.21\n",
       "dtype: float64"
      ]
     },
     "execution_count": 11,
     "metadata": {},
     "output_type": "execute_result"
    }
   ],
   "source": [
    "google.mode()"
   ]
  },
  {
   "cell_type": "code",
   "execution_count": 12,
   "metadata": {},
   "outputs": [
    {
     "data": {
      "text/plain": [
       "count    3012.000000\n",
       "mean      334.310093\n",
       "std       173.187205\n",
       "min        49.950000\n",
       "25%       218.045000\n",
       "50%       283.315000\n",
       "75%       443.000000\n",
       "max       782.220000\n",
       "Name: Stock Price, dtype: float64"
      ]
     },
     "execution_count": 12,
     "metadata": {},
     "output_type": "execute_result"
    }
   ],
   "source": [
    "google.describe()"
   ]
  },
  {
   "cell_type": "code",
   "execution_count": 13,
   "metadata": {},
   "outputs": [
    {
     "data": {
      "text/plain": [
       "3011"
      ]
     },
     "execution_count": 13,
     "metadata": {},
     "output_type": "execute_result"
    }
   ],
   "source": [
    "google.idxmax()"
   ]
  },
  {
   "cell_type": "code",
   "execution_count": 14,
   "metadata": {},
   "outputs": [
    {
     "data": {
      "text/plain": [
       "782.22000000000003"
      ]
     },
     "execution_count": 14,
     "metadata": {},
     "output_type": "execute_result"
    }
   ],
   "source": [
    "google[3011]"
   ]
  },
  {
   "cell_type": "code",
   "execution_count": 15,
   "metadata": {},
   "outputs": [
    {
     "data": {
      "text/plain": [
       "11"
      ]
     },
     "execution_count": 15,
     "metadata": {},
     "output_type": "execute_result"
    }
   ],
   "source": [
    "google.idxmin()"
   ]
  },
  {
   "cell_type": "code",
   "execution_count": 16,
   "metadata": {},
   "outputs": [
    {
     "data": {
      "text/plain": [
       "49.950000000000003"
      ]
     },
     "execution_count": 16,
     "metadata": {},
     "output_type": "execute_result"
    }
   ],
   "source": [
    "google[google.idxmin()]"
   ]
  },
  {
   "cell_type": "code",
   "execution_count": 17,
   "metadata": {},
   "outputs": [
    {
     "data": {
      "text/plain": [
       "782.22000000000003"
      ]
     },
     "execution_count": 17,
     "metadata": {},
     "output_type": "execute_result"
    }
   ],
   "source": [
    "google[google.idxmax()]"
   ]
  },
  {
   "cell_type": "code",
   "execution_count": 21,
   "metadata": {
    "collapsed": true
   },
   "outputs": [
    {
     "data": {
      "text/plain": [
       "Pokemon\n",
       "Bulbasaur        Grass\n",
       "Ivysaur          Grass\n",
       "Venusaur         Grass\n",
       "Charmander        Fire\n",
       "Charmeleon        Fire\n",
       "Charizard         Fire\n",
       "Squirtle         Water\n",
       "Wartortle        Water\n",
       "Blastoise        Water\n",
       "Caterpie           Bug\n",
       "Metapod            Bug\n",
       "Butterfree         Bug\n",
       "Weedle             Bug\n",
       "Kakuna             Bug\n",
       "Beedrill           Bug\n",
       "Pidgey          Normal\n",
       "Pidgeotto       Normal\n",
       "Pidgeot         Normal\n",
       "Rattata         Normal\n",
       "Raticate        Normal\n",
       "Spearow         Normal\n",
       "Fearow          Normal\n",
       "Ekans           Poison\n",
       "Arbok           Poison\n",
       "Pikachu       Electric\n",
       "Raichu        Electric\n",
       "Sandshrew       Ground\n",
       "Sandslash       Ground\n",
       "Nidoran         Poison\n",
       "Nidorina        Poison\n",
       "                ...   \n",
       "Clauncher        Water\n",
       "Clawitzer        Water\n",
       "Helioptile    Electric\n",
       "Heliolisk     Electric\n",
       "Tyrunt            Rock\n",
       "Tyrantrum         Rock\n",
       "Amaura            Rock\n",
       "Aurorus           Rock\n",
       "Sylveon          Fairy\n",
       "Hawlucha      Fighting\n",
       "Dedenne       Electric\n",
       "Carbink           Rock\n",
       "Goomy           Dragon\n",
       "Sliggoo         Dragon\n",
       "Goodra          Dragon\n",
       "Klefki           Steel\n",
       "Phantump         Ghost\n",
       "Trevenant        Ghost\n",
       "Pumpkaboo        Ghost\n",
       "Gourgeist        Ghost\n",
       "Bergmite           Ice\n",
       "Avalugg            Ice\n",
       "Noibat          Flying\n",
       "Noivern         Flying\n",
       "Xerneas          Fairy\n",
       "Yveltal           Dark\n",
       "Zygarde         Dragon\n",
       "Diancie           Rock\n",
       "Hoopa          Psychic\n",
       "Volcanion         Fire\n",
       "Name: Type, Length: 721, dtype: object"
      ]
     },
     "execution_count": 21,
     "metadata": {},
     "output_type": "execute_result"
    }
   ],
   "source": [
    "pokemon"
   ]
  },
  {
   "cell_type": "code",
   "execution_count": 22,
   "metadata": {
    "collapsed": true
   },
   "outputs": [
    {
     "data": {
      "text/plain": [
       "Water       105\n",
       "Normal       93\n",
       "Grass        66\n",
       "Bug          63\n",
       "Fire         47\n",
       "Psychic      47\n",
       "Rock         41\n",
       "Electric     36\n",
       "Ground       30\n",
       "Dark         28\n",
       "Poison       28\n",
       "Fighting     25\n",
       "Dragon       24\n",
       "Ice          23\n",
       "Ghost        23\n",
       "Steel        22\n",
       "Fairy        17\n",
       "Flying        3\n",
       "Name: Type, dtype: int64"
      ]
     },
     "execution_count": 22,
     "metadata": {},
     "output_type": "execute_result"
    }
   ],
   "source": [
    "pokemon.value_counts()"
   ]
  },
  {
   "cell_type": "code",
   "execution_count": 23,
   "metadata": {},
   "outputs": [
    {
     "data": {
      "text/plain": [
       "721"
      ]
     },
     "execution_count": 23,
     "metadata": {},
     "output_type": "execute_result"
    }
   ],
   "source": [
    "pokemon.value_counts().sum()"
   ]
  },
  {
   "cell_type": "code",
   "execution_count": 26,
   "metadata": {
    "collapsed": true
   },
   "outputs": [
    {
     "data": {
      "text/plain": [
       "Flying      0.004161\n",
       "Fairy       0.023578\n",
       "Steel       0.030513\n",
       "Ghost       0.031900\n",
       "Ice         0.031900\n",
       "Dragon      0.033287\n",
       "Fighting    0.034674\n",
       "Poison      0.038835\n",
       "Dark        0.038835\n",
       "Ground      0.041609\n",
       "Electric    0.049931\n",
       "Rock        0.056865\n",
       "Psychic     0.065187\n",
       "Fire        0.065187\n",
       "Bug         0.087379\n",
       "Grass       0.091540\n",
       "Normal      0.128988\n",
       "Water       0.145631\n",
       "Name: Type, dtype: float64"
      ]
     },
     "execution_count": 26,
     "metadata": {},
     "output_type": "execute_result"
    }
   ],
   "source": [
    "pokemon.value_counts(normalize = True, ascending = True)"
   ]
  },
  {
   "cell_type": "code",
   "execution_count": 27,
   "metadata": {},
   "outputs": [
    {
     "data": {
      "text/plain": [
       "0    50.12\n",
       "1    54.10\n",
       "2    54.65\n",
       "3    52.38\n",
       "4    52.95\n",
       "5    53.90\n",
       "Name: Stock Price, dtype: float64"
      ]
     },
     "execution_count": 27,
     "metadata": {},
     "output_type": "execute_result"
    }
   ],
   "source": [
    "google.head(6)"
   ]
  },
  {
   "cell_type": "code",
   "execution_count": 29,
   "metadata": {},
   "outputs": [],
   "source": [
    "def classify(number):\n",
    "    if number < 300:\n",
    "        return \"ok\"\n",
    "    elif number >= 300 and number < 650:\n",
    "        return \"nice one\"\n",
    "    else:\n",
    "        return \"Incredible\""
   ]
  },
  {
   "cell_type": "code",
   "execution_count": 30,
   "metadata": {},
   "outputs": [
    {
     "data": {
      "text/plain": [
       "0               ok\n",
       "1               ok\n",
       "2               ok\n",
       "3               ok\n",
       "4               ok\n",
       "5               ok\n",
       "6               ok\n",
       "7               ok\n",
       "8               ok\n",
       "9               ok\n",
       "10              ok\n",
       "11              ok\n",
       "12              ok\n",
       "13              ok\n",
       "14              ok\n",
       "15              ok\n",
       "16              ok\n",
       "17              ok\n",
       "18              ok\n",
       "19              ok\n",
       "20              ok\n",
       "21              ok\n",
       "22              ok\n",
       "23              ok\n",
       "24              ok\n",
       "25              ok\n",
       "26              ok\n",
       "27              ok\n",
       "28              ok\n",
       "29              ok\n",
       "           ...    \n",
       "2982    Incredible\n",
       "2983    Incredible\n",
       "2984    Incredible\n",
       "2985    Incredible\n",
       "2986    Incredible\n",
       "2987    Incredible\n",
       "2988    Incredible\n",
       "2989    Incredible\n",
       "2990    Incredible\n",
       "2991    Incredible\n",
       "2992    Incredible\n",
       "2993    Incredible\n",
       "2994    Incredible\n",
       "2995    Incredible\n",
       "2996    Incredible\n",
       "2997    Incredible\n",
       "2998    Incredible\n",
       "2999    Incredible\n",
       "3000    Incredible\n",
       "3001    Incredible\n",
       "3002    Incredible\n",
       "3003    Incredible\n",
       "3004    Incredible\n",
       "3005    Incredible\n",
       "3006    Incredible\n",
       "3007    Incredible\n",
       "3008    Incredible\n",
       "3009    Incredible\n",
       "3010    Incredible\n",
       "3011    Incredible\n",
       "Name: Stock Price, Length: 3012, dtype: object"
      ]
     },
     "execution_count": 30,
     "metadata": {},
     "output_type": "execute_result"
    }
   ],
   "source": [
    "google.apply(classify)"
   ]
  },
  {
   "cell_type": "code",
   "execution_count": 32,
   "metadata": {},
   "outputs": [
    {
     "ename": "AttributeError",
     "evalue": "'numpy.float64' object has no attribute 'apply'",
     "output_type": "error",
     "traceback": [
      "\u001b[1;31m---------------------------------------------------------------------------\u001b[0m",
      "\u001b[1;31mAttributeError\u001b[0m                            Traceback (most recent call last)",
      "\u001b[1;32m<ipython-input-32-37947912eb68>\u001b[0m in \u001b[0;36m<module>\u001b[1;34m()\u001b[0m\n\u001b[1;32m----> 1\u001b[1;33m \u001b[0mgoogle\u001b[0m\u001b[1;33m[\u001b[0m\u001b[1;36m45\u001b[0m\u001b[1;33m]\u001b[0m\u001b[1;33m.\u001b[0m\u001b[0mapply\u001b[0m\u001b[1;33m(\u001b[0m\u001b[0mclassify\u001b[0m\u001b[1;33m)\u001b[0m\u001b[1;33m\u001b[0m\u001b[0m\n\u001b[0m",
      "\u001b[1;31mAttributeError\u001b[0m: 'numpy.float64' object has no attribute 'apply'"
     ]
    }
   ],
   "source": [
    "google[45].apply(classify)"
   ]
  },
  {
   "cell_type": "code",
   "execution_count": 33,
   "metadata": {},
   "outputs": [
    {
     "data": {
      "text/plain": [
       "3007    Incredible\n",
       "3008    Incredible\n",
       "3009    Incredible\n",
       "3010    Incredible\n",
       "3011    Incredible\n",
       "Name: Stock Price, dtype: object"
      ]
     },
     "execution_count": 33,
     "metadata": {},
     "output_type": "execute_result"
    }
   ],
   "source": [
    "google.apply(classify).tail()"
   ]
  },
  {
   "cell_type": "code",
   "execution_count": 37,
   "metadata": {},
   "outputs": [
    {
     "data": {
      "text/plain": [
       "0    51.12\n",
       "1    55.10\n",
       "2    55.65\n",
       "3    53.38\n",
       "4    53.95\n",
       "Name: Stock Price, dtype: float64"
      ]
     },
     "execution_count": 37,
     "metadata": {},
     "output_type": "execute_result"
    }
   ],
   "source": [
    "google.apply(lambda stock_p : stock_p + 1).head() # lambda to declare an method "
   ]
  },
  {
   "cell_type": "code",
   "execution_count": 41,
   "metadata": {
    "collapsed": true
   },
   "outputs": [],
   "source": [
    "p_name = pd.read_csv(\"pokemon.csv\", usecols = [\"Pokemon\"], squeeze = True)"
   ]
  },
  {
   "cell_type": "code",
   "execution_count": 40,
   "metadata": {},
   "outputs": [
    {
     "data": {
      "text/plain": [
       "0    Bulbasaur\n",
       "1      Ivysaur\n",
       "2     Venusaur\n",
       "Name: Pokemon, dtype: object"
      ]
     },
     "execution_count": 40,
     "metadata": {},
     "output_type": "execute_result"
    }
   ],
   "source": [
    "p_name.head(3)"
   ]
  },
  {
   "cell_type": "code",
   "execution_count": 44,
   "metadata": {},
   "outputs": [
    {
     "data": {
      "text/plain": [
       "Pokemon\n",
       "Bulbasaur    Grass\n",
       "Ivysaur      Grass\n",
       "Venusaur     Grass\n",
       "Name: Type, dtype: object"
      ]
     },
     "execution_count": 44,
     "metadata": {},
     "output_type": "execute_result"
    }
   ],
   "source": [
    "p_type = pd.read_csv(\"pokemon.csv\", index_col = \"Pokemon\", squeeze = True)\n",
    "p_type.head(3)"
   ]
  },
  {
   "cell_type": "markdown",
   "metadata": {},
   "source": [
    "In this step we seperated our list into 2 different method we \n",
    "are joining them now"
   ]
  },
  {
   "cell_type": "code",
   "execution_count": 45,
   "metadata": {
    "collapsed": true
   },
   "outputs": [
    {
     "data": {
      "text/plain": [
       "0         Grass\n",
       "1         Grass\n",
       "2         Grass\n",
       "3          Fire\n",
       "4          Fire\n",
       "5          Fire\n",
       "6         Water\n",
       "7         Water\n",
       "8         Water\n",
       "9           Bug\n",
       "10          Bug\n",
       "11          Bug\n",
       "12          Bug\n",
       "13          Bug\n",
       "14          Bug\n",
       "15       Normal\n",
       "16       Normal\n",
       "17       Normal\n",
       "18       Normal\n",
       "19       Normal\n",
       "20       Normal\n",
       "21       Normal\n",
       "22       Poison\n",
       "23       Poison\n",
       "24     Electric\n",
       "25     Electric\n",
       "26       Ground\n",
       "27       Ground\n",
       "28       Poison\n",
       "29       Poison\n",
       "         ...   \n",
       "691       Water\n",
       "692       Water\n",
       "693    Electric\n",
       "694    Electric\n",
       "695        Rock\n",
       "696        Rock\n",
       "697        Rock\n",
       "698        Rock\n",
       "699       Fairy\n",
       "700    Fighting\n",
       "701    Electric\n",
       "702        Rock\n",
       "703      Dragon\n",
       "704      Dragon\n",
       "705      Dragon\n",
       "706       Steel\n",
       "707       Ghost\n",
       "708       Ghost\n",
       "709       Ghost\n",
       "710       Ghost\n",
       "711         Ice\n",
       "712         Ice\n",
       "713      Flying\n",
       "714      Flying\n",
       "715       Fairy\n",
       "716        Dark\n",
       "717      Dragon\n",
       "718        Rock\n",
       "719     Psychic\n",
       "720        Fire\n",
       "Name: Pokemon, Length: 721, dtype: object"
      ]
     },
     "execution_count": 45,
     "metadata": {},
     "output_type": "execute_result"
    }
   ],
   "source": [
    "p_name.map(p_type)"
   ]
  },
  {
   "cell_type": "code",
   "execution_count": 46,
   "metadata": {
    "collapsed": true
   },
   "outputs": [],
   "source": [
    "p_type = pd.read_csv(\"pokemon.csv\", index_col = \"Pokemon\", squeeze = True).to_dict()"
   ]
  },
  {
   "cell_type": "code",
   "execution_count": 47,
   "metadata": {
    "collapsed": true
   },
   "outputs": [
    {
     "data": {
      "text/plain": [
       "{'Abomasnow': 'Grass',\n",
       " 'Abra': 'Psychic',\n",
       " 'Absol': 'Dark',\n",
       " 'Accelgor': 'Bug',\n",
       " 'Aegislash': 'Steel',\n",
       " 'Aerodactyl': 'Rock',\n",
       " 'Aggron': 'Steel',\n",
       " 'Aipom': 'Normal',\n",
       " 'Alakazam': 'Psychic',\n",
       " 'Alomomola': 'Water',\n",
       " 'Altaria': 'Dragon',\n",
       " 'Amaura': 'Rock',\n",
       " 'Ambipom': 'Normal',\n",
       " 'Amoonguss': 'Grass',\n",
       " 'Ampharos': 'Electric',\n",
       " 'Anorith': 'Rock',\n",
       " 'Arbok': 'Poison',\n",
       " 'Arcanine': 'Fire',\n",
       " 'Arceus': 'Normal',\n",
       " 'Archen': 'Rock',\n",
       " 'Archeops': 'Rock',\n",
       " 'Ariados': 'Bug',\n",
       " 'Armaldo': 'Rock',\n",
       " 'Aromatisse': 'Fairy',\n",
       " 'Aron': 'Steel',\n",
       " 'Articuno': 'Ice',\n",
       " 'Audino': 'Normal',\n",
       " 'Aurorus': 'Rock',\n",
       " 'Avalugg': 'Ice',\n",
       " 'Axew': 'Dragon',\n",
       " 'Azelf': 'Psychic',\n",
       " 'Azumarill': 'Water',\n",
       " 'Azurill': 'Normal',\n",
       " 'Bagon': 'Dragon',\n",
       " 'Baltoy': 'Ground',\n",
       " 'Banette': 'Ghost',\n",
       " 'Barbaracle': 'Rock',\n",
       " 'Barboach': 'Water',\n",
       " 'Basculin': 'Water',\n",
       " 'Bastiodon': 'Rock',\n",
       " 'Bayleef': 'Grass',\n",
       " 'Beartic': 'Ice',\n",
       " 'Beautifly': 'Bug',\n",
       " 'Beedrill': 'Bug',\n",
       " 'Beheeyem': 'Psychic',\n",
       " 'Beldum': 'Steel',\n",
       " 'Bellossom': 'Grass',\n",
       " 'Bellsprout': 'Grass',\n",
       " 'Bergmite': 'Ice',\n",
       " 'Bibarel': 'Normal',\n",
       " 'Bidoof': 'Normal',\n",
       " 'Binacle': 'Rock',\n",
       " 'Bisharp': 'Dark',\n",
       " 'Blastoise': 'Water',\n",
       " 'Blaziken': 'Fire',\n",
       " 'Blissey': 'Normal',\n",
       " 'Blitzle': 'Electric',\n",
       " 'Boldore': 'Rock',\n",
       " 'Bonsly': 'Rock',\n",
       " 'Bouffalant': 'Normal',\n",
       " 'Braixen': 'Fire',\n",
       " 'Braviary': 'Normal',\n",
       " 'Breloom': 'Grass',\n",
       " 'Bronzong': 'Steel',\n",
       " 'Bronzor': 'Steel',\n",
       " 'Budew': 'Grass',\n",
       " 'Buizel': 'Water',\n",
       " 'Bulbasaur': 'Grass',\n",
       " 'Buneary': 'Normal',\n",
       " 'Bunnelby': 'Normal',\n",
       " 'Burmy': 'Bug',\n",
       " 'Butterfree': 'Bug',\n",
       " 'Cacnea': 'Grass',\n",
       " 'Cacturne': 'Grass',\n",
       " 'Camerupt': 'Fire',\n",
       " 'Carbink': 'Rock',\n",
       " 'Carnivine': 'Grass',\n",
       " 'Carracosta': 'Water',\n",
       " 'Carvanha': 'Water',\n",
       " 'Cascoon': 'Bug',\n",
       " 'Castform': 'Normal',\n",
       " 'Caterpie': 'Bug',\n",
       " 'Celebi': 'Psychic',\n",
       " 'Chandelure': 'Ghost',\n",
       " 'Chansey': 'Normal',\n",
       " 'Charizard': 'Fire',\n",
       " 'Charmander': 'Fire',\n",
       " 'Charmeleon': 'Fire',\n",
       " 'Chatot': 'Normal',\n",
       " 'Cherrim': 'Grass',\n",
       " 'Cherubi': 'Grass',\n",
       " 'Chesnaught': 'Grass',\n",
       " 'Chespin': 'Grass',\n",
       " 'Chikorita': 'Grass',\n",
       " 'Chimchar': 'Fire',\n",
       " 'Chimecho': 'Psychic',\n",
       " 'Chinchou': 'Water',\n",
       " 'Chingling': 'Psychic',\n",
       " 'Cinccino': 'Normal',\n",
       " 'Clamperl': 'Water',\n",
       " 'Clauncher': 'Water',\n",
       " 'Clawitzer': 'Water',\n",
       " 'Claydol': 'Ground',\n",
       " 'Clefable': 'Fairy',\n",
       " 'Clefairy': 'Fairy',\n",
       " 'Cleffa': 'Fairy',\n",
       " 'Cloyster': 'Water',\n",
       " 'Cobalion': 'Steel',\n",
       " 'Cofagrigus': 'Ghost',\n",
       " 'Combee': 'Bug',\n",
       " 'Combusken': 'Fire',\n",
       " 'Conkeldurr': 'Fighting',\n",
       " 'Corphish': 'Water',\n",
       " 'Corsola': 'Water',\n",
       " 'Cottonee': 'Grass',\n",
       " 'Cradily': 'Rock',\n",
       " 'Cranidos': 'Rock',\n",
       " 'Crawdaunt': 'Water',\n",
       " 'Cresselia': 'Psychic',\n",
       " 'Croagunk': 'Poison',\n",
       " 'Crobat': 'Poison',\n",
       " 'Croconaw': 'Water',\n",
       " 'Crustle': 'Bug',\n",
       " 'Cryogonal': 'Ice',\n",
       " 'Cubchoo': 'Ice',\n",
       " 'Cubone': 'Ground',\n",
       " 'Cyndaquil': 'Fire',\n",
       " 'Darkrai': 'Dark',\n",
       " 'Darmanitan': 'Fire',\n",
       " 'Darumaka': 'Fire',\n",
       " 'Dedenne': 'Electric',\n",
       " 'Deerling': 'Normal',\n",
       " 'Deino': 'Dark',\n",
       " 'Delcatty': 'Normal',\n",
       " 'Delibird': 'Ice',\n",
       " 'Delphox': 'Fire',\n",
       " 'Deoxys': 'Psychic',\n",
       " 'Dewgong': 'Water',\n",
       " 'Dewott': 'Water',\n",
       " 'Dialga': 'Steel',\n",
       " 'Diancie': 'Rock',\n",
       " 'Diggersby': 'Normal',\n",
       " 'Diglett': 'Ground',\n",
       " 'Ditto': 'Normal',\n",
       " 'Dodrio': 'Normal',\n",
       " 'Doduo': 'Normal',\n",
       " 'Donphan': 'Ground',\n",
       " 'Doublade': 'Steel',\n",
       " 'Dragalge': 'Poison',\n",
       " 'Dragonair': 'Dragon',\n",
       " 'Dragonite': 'Dragon',\n",
       " 'Drapion': 'Poison',\n",
       " 'Dratini': 'Dragon',\n",
       " 'Drifblim': 'Ghost',\n",
       " 'Drifloon': 'Ghost',\n",
       " 'Drilbur': 'Ground',\n",
       " 'Drowzee': 'Psychic',\n",
       " 'Druddigon': 'Dragon',\n",
       " 'Ducklett': 'Water',\n",
       " 'Dugtrio': 'Ground',\n",
       " 'Dunsparce': 'Normal',\n",
       " 'Duosion': 'Psychic',\n",
       " 'Durant': 'Bug',\n",
       " 'Dusclops': 'Ghost',\n",
       " 'Dusknoir': 'Ghost',\n",
       " 'Duskull': 'Ghost',\n",
       " 'Dustox': 'Bug',\n",
       " 'Dwebble': 'Bug',\n",
       " 'Eelektrik': 'Electric',\n",
       " 'Eelektross': 'Electric',\n",
       " 'Eevee': 'Normal',\n",
       " 'Ekans': 'Poison',\n",
       " 'Electabuzz': 'Electric',\n",
       " 'Electivire': 'Electric',\n",
       " 'Electrike': 'Electric',\n",
       " 'Electrode': 'Electric',\n",
       " 'Elekid': 'Electric',\n",
       " 'Elgyem': 'Psychic',\n",
       " 'Emboar': 'Fire',\n",
       " 'Emolga': 'Electric',\n",
       " 'Empoleon': 'Water',\n",
       " 'Entei': 'Fire',\n",
       " 'Escavalier': 'Bug',\n",
       " 'Espeon': 'Psychic',\n",
       " 'Espurr': 'Psychic',\n",
       " 'Excadrill': 'Ground',\n",
       " 'Exeggcute': 'Grass',\n",
       " 'Exeggutor': 'Grass',\n",
       " 'Exploud': 'Normal',\n",
       " \"Farfetch'd\": 'Normal',\n",
       " 'Fearow': 'Normal',\n",
       " 'Feebas': 'Water',\n",
       " 'Fennekin': 'Fire',\n",
       " 'Feraligatr': 'Water',\n",
       " 'Ferroseed': 'Grass',\n",
       " 'Ferrothorn': 'Grass',\n",
       " 'Finneon': 'Water',\n",
       " 'Flaaffy': 'Electric',\n",
       " 'Flabébé': 'Fairy',\n",
       " 'Flareon': 'Fire',\n",
       " 'Fletchinder': 'Fire',\n",
       " 'Fletchling': 'Normal',\n",
       " 'Floatzel': 'Water',\n",
       " 'Floette': 'Fairy',\n",
       " 'Florges': 'Fairy',\n",
       " 'Flygon': 'Ground',\n",
       " 'Foongus': 'Grass',\n",
       " 'Forretress': 'Bug',\n",
       " 'Fraxure': 'Dragon',\n",
       " 'Frillish': 'Water',\n",
       " 'Froakie': 'Water',\n",
       " 'Frogadier': 'Water',\n",
       " 'Froslass': 'Ice',\n",
       " 'Furfrou': 'Normal',\n",
       " 'Furret': 'Normal',\n",
       " 'Gabite': 'Dragon',\n",
       " 'Gallade': 'Psychic',\n",
       " 'Galvantula': 'Bug',\n",
       " 'Garbodor': 'Poison',\n",
       " 'Garchomp': 'Dragon',\n",
       " 'Gardevoir': 'Psychic',\n",
       " 'Gastly': 'Ghost',\n",
       " 'Gastrodon': 'Water',\n",
       " 'Genesect': 'Bug',\n",
       " 'Gengar': 'Ghost',\n",
       " 'Geodude': 'Rock',\n",
       " 'Gible': 'Dragon',\n",
       " 'Gigalith': 'Rock',\n",
       " 'Girafarig': 'Normal',\n",
       " 'Giratina': 'Ghost',\n",
       " 'Glaceon': 'Ice',\n",
       " 'Glalie': 'Ice',\n",
       " 'Glameow': 'Normal',\n",
       " 'Gligar': 'Ground',\n",
       " 'Gliscor': 'Ground',\n",
       " 'Gloom': 'Grass',\n",
       " 'Gogoat': 'Grass',\n",
       " 'Golbat': 'Poison',\n",
       " 'Goldeen': 'Water',\n",
       " 'Golduck': 'Water',\n",
       " 'Golem': 'Rock',\n",
       " 'Golett': 'Ground',\n",
       " 'Golurk': 'Ground',\n",
       " 'Goodra': 'Dragon',\n",
       " 'Goomy': 'Dragon',\n",
       " 'Gorebyss': 'Water',\n",
       " 'Gothita': 'Psychic',\n",
       " 'Gothitelle': 'Psychic',\n",
       " 'Gothorita': 'Psychic',\n",
       " 'Gourgeist': 'Ghost',\n",
       " 'Granbull': 'Fairy',\n",
       " 'Graveler': 'Rock',\n",
       " 'Greninja': 'Water',\n",
       " 'Grimer': 'Poison',\n",
       " 'Grotle': 'Grass',\n",
       " 'Groudon': 'Ground',\n",
       " 'Grovyle': 'Grass',\n",
       " 'Growlithe': 'Fire',\n",
       " 'Grumpig': 'Psychic',\n",
       " 'Gulpin': 'Poison',\n",
       " 'Gurdurr': 'Fighting',\n",
       " 'Gyarados': 'Water',\n",
       " 'Happiny': 'Normal',\n",
       " 'Hariyama': 'Fighting',\n",
       " 'Haunter': 'Ghost',\n",
       " 'Hawlucha': 'Fighting',\n",
       " 'Haxorus': 'Dragon',\n",
       " 'Heatmor': 'Fire',\n",
       " 'Heatran': 'Fire',\n",
       " 'Heliolisk': 'Electric',\n",
       " 'Helioptile': 'Electric',\n",
       " 'Heracross': 'Bug',\n",
       " 'Herdier': 'Normal',\n",
       " 'Hippopotas': 'Ground',\n",
       " 'Hippowdon': 'Ground',\n",
       " 'Hitmonchan': 'Fighting',\n",
       " 'Hitmonlee': 'Fighting',\n",
       " 'Hitmontop': 'Fighting',\n",
       " 'Ho-oh': 'Fire',\n",
       " 'Honchkrow': 'Dark',\n",
       " 'Honedge': 'Steel',\n",
       " 'Hoopa': 'Psychic',\n",
       " 'Hoothoot': 'Normal',\n",
       " 'Hoppip': 'Grass',\n",
       " 'Horsea': 'Water',\n",
       " 'Houndoom': 'Dark',\n",
       " 'Houndour': 'Dark',\n",
       " 'Huntail': 'Water',\n",
       " 'Hydreigon': 'Dark',\n",
       " 'Hypno': 'Psychic',\n",
       " 'Igglybuff': 'Normal',\n",
       " 'Illumise': 'Bug',\n",
       " 'Infernape': 'Fire',\n",
       " 'Inkay': 'Dark',\n",
       " 'Ivysaur': 'Grass',\n",
       " 'Jellicent': 'Water',\n",
       " 'Jigglypuff': 'Normal',\n",
       " 'Jirachi': 'Steel',\n",
       " 'Jolteon': 'Electric',\n",
       " 'Joltik': 'Bug',\n",
       " 'Jumpluff': 'Grass',\n",
       " 'Jynx': 'Ice',\n",
       " 'Kabuto': 'Rock',\n",
       " 'Kabutops': 'Rock',\n",
       " 'Kadabra': 'Psychic',\n",
       " 'Kakuna': 'Bug',\n",
       " 'Kangaskhan': 'Normal',\n",
       " 'Karrablast': 'Bug',\n",
       " 'Kecleon': 'Normal',\n",
       " 'Keldeo': 'Water',\n",
       " 'Kingdra': 'Water',\n",
       " 'Kingler': 'Water',\n",
       " 'Kirlia': 'Psychic',\n",
       " 'Klang': 'Steel',\n",
       " 'Klefki': 'Steel',\n",
       " 'Klink': 'Steel',\n",
       " 'Klinklang': 'Steel',\n",
       " 'Koffing': 'Poison',\n",
       " 'Krabby': 'Water',\n",
       " 'Kricketot': 'Bug',\n",
       " 'Kricketune': 'Bug',\n",
       " 'Krokorok': 'Ground',\n",
       " 'Krookodile': 'Ground',\n",
       " 'Kyogre': 'Water',\n",
       " 'Kyurem': 'Dragon',\n",
       " 'Lairon': 'Steel',\n",
       " 'Lampent': 'Ghost',\n",
       " 'Landorus': 'Ground',\n",
       " 'Lanturn': 'Water',\n",
       " 'Lapras': 'Water',\n",
       " 'Larvesta': 'Bug',\n",
       " 'Larvitar': 'Rock',\n",
       " 'Latias': 'Dragon',\n",
       " 'Latios': 'Dragon',\n",
       " 'Leafeon': 'Grass',\n",
       " 'Leavanny': 'Bug',\n",
       " 'Ledian': 'Bug',\n",
       " 'Ledyba': 'Bug',\n",
       " 'Lickilicky': 'Normal',\n",
       " 'Lickitung': 'Normal',\n",
       " 'Liepard': 'Dark',\n",
       " 'Lileep': 'Rock',\n",
       " 'Lilligant': 'Grass',\n",
       " 'Lillipup': 'Normal',\n",
       " 'Linoone': 'Normal',\n",
       " 'Litleo': 'Fire',\n",
       " 'Litwick': 'Ghost',\n",
       " 'Lombre': 'Water',\n",
       " 'Lopunny': 'Normal',\n",
       " 'Lotad': 'Water',\n",
       " 'Loudred': 'Normal',\n",
       " 'Lucario': 'Fighting',\n",
       " 'Ludicolo': 'Water',\n",
       " 'Lugia': 'Psychic',\n",
       " 'Lumineon': 'Water',\n",
       " 'Lunatone': 'Rock',\n",
       " 'Luvdisc': 'Water',\n",
       " 'Luxio': 'Electric',\n",
       " 'Luxray': 'Electric',\n",
       " 'Machamp': 'Fighting',\n",
       " 'Machoke': 'Fighting',\n",
       " 'Machop': 'Fighting',\n",
       " 'Magby': 'Fire',\n",
       " 'Magcargo': 'Fire',\n",
       " 'Magikarp': 'Water',\n",
       " 'Magmar': 'Fire',\n",
       " 'Magmortar': 'Fire',\n",
       " 'Magnemite': 'Electric',\n",
       " 'Magneton': 'Electric',\n",
       " 'Magnezone': 'Electric',\n",
       " 'Makuhita': 'Fighting',\n",
       " 'Malamar': 'Dark',\n",
       " 'Mamoswine': 'Ice',\n",
       " 'Manaphy': 'Water',\n",
       " 'Mandibuzz': 'Dark',\n",
       " 'Manectric': 'Electric',\n",
       " 'Mankey': 'Fighting',\n",
       " 'Mantine': 'Water',\n",
       " 'Mantyke': 'Water',\n",
       " 'Maractus': 'Grass',\n",
       " 'Mareep': 'Electric',\n",
       " 'Marill': 'Water',\n",
       " 'Marowak': 'Ground',\n",
       " 'Marshtomp': 'Water',\n",
       " 'Masquerain': 'Bug',\n",
       " 'Mawile': 'Steel',\n",
       " 'Medicham': 'Fighting',\n",
       " 'Meditite': 'Fighting',\n",
       " 'Meganium': 'Grass',\n",
       " 'Meloetta': 'Normal',\n",
       " 'Meowstic': 'Psychic',\n",
       " 'Meowth': 'Normal',\n",
       " 'Mesprit': 'Psychic',\n",
       " 'Metagross': 'Steel',\n",
       " 'Metang': 'Steel',\n",
       " 'Metapod': 'Bug',\n",
       " 'Mew': 'Psychic',\n",
       " 'Mewtwo': 'Psychic',\n",
       " 'Mienfoo': 'Fighting',\n",
       " 'Mienshao': 'Fighting',\n",
       " 'Mightyena': 'Dark',\n",
       " 'Milotic': 'Water',\n",
       " 'Miltank': 'Normal',\n",
       " 'Mime Jr.': 'Psychic',\n",
       " 'Minccino': 'Normal',\n",
       " 'Minun': 'Electric',\n",
       " 'Misdreavus': 'Ghost',\n",
       " 'Mismagius': 'Ghost',\n",
       " 'Moltres': 'Fire',\n",
       " 'Monferno': 'Fire',\n",
       " 'Mothim': 'Bug',\n",
       " 'Mr. Mime': 'Psychic',\n",
       " 'Mudkip': 'Water',\n",
       " 'Muk': 'Poison',\n",
       " 'Munchlax': 'Normal',\n",
       " 'Munna': 'Psychic',\n",
       " 'Murkrow': 'Dark',\n",
       " 'Musharna': 'Psychic',\n",
       " 'Natu': 'Psychic',\n",
       " 'Nidoking': 'Poison',\n",
       " 'Nidoqueen': 'Poison',\n",
       " 'Nidoran': 'Poison',\n",
       " 'Nidoran♂': 'Poison',\n",
       " 'Nidorina': 'Poison',\n",
       " 'Nidorino': 'Poison',\n",
       " 'Nincada': 'Bug',\n",
       " 'Ninetales': 'Fire',\n",
       " 'Ninjask': 'Bug',\n",
       " 'Noctowl': 'Normal',\n",
       " 'Noibat': 'Flying',\n",
       " 'Noivern': 'Flying',\n",
       " 'Nosepass': 'Rock',\n",
       " 'Numel': 'Fire',\n",
       " 'Nuzleaf': 'Grass',\n",
       " 'Octillery': 'Water',\n",
       " 'Oddish': 'Grass',\n",
       " 'Omanyte': 'Rock',\n",
       " 'Omastar': 'Rock',\n",
       " 'Onix': 'Rock',\n",
       " 'Oshawott': 'Water',\n",
       " 'Pachirisu': 'Electric',\n",
       " 'Palkia': 'Water',\n",
       " 'Palpitoad': 'Water',\n",
       " 'Pancham': 'Fighting',\n",
       " 'Pangoro': 'Fighting',\n",
       " 'Panpour': 'Water',\n",
       " 'Pansage': 'Grass',\n",
       " 'Pansear': 'Fire',\n",
       " 'Paras': 'Bug',\n",
       " 'Parasect': 'Bug',\n",
       " 'Patrat': 'Normal',\n",
       " 'Pawniard': 'Dark',\n",
       " 'Pelipper': 'Water',\n",
       " 'Persian': 'Normal',\n",
       " 'Petilil': 'Grass',\n",
       " 'Phanpy': 'Ground',\n",
       " 'Phantump': 'Ghost',\n",
       " 'Phione': 'Water',\n",
       " 'Pichu': 'Electric',\n",
       " 'Pidgeot': 'Normal',\n",
       " 'Pidgeotto': 'Normal',\n",
       " 'Pidgey': 'Normal',\n",
       " 'Pidove': 'Normal',\n",
       " 'Pignite': 'Fire',\n",
       " 'Pikachu': 'Electric',\n",
       " 'Piloswine': 'Ice',\n",
       " 'Pineco': 'Bug',\n",
       " 'Pinsir': 'Bug',\n",
       " 'Piplup': 'Water',\n",
       " 'Plusle': 'Electric',\n",
       " 'Politoed': 'Water',\n",
       " 'Poliwag': 'Water',\n",
       " 'Poliwhirl': 'Water',\n",
       " 'Poliwrath': 'Water',\n",
       " 'Ponyta': 'Fire',\n",
       " 'Poochyena': 'Dark',\n",
       " 'Porygon': 'Normal',\n",
       " 'Porygon-Z': 'Normal',\n",
       " 'Porygon2': 'Normal',\n",
       " 'Primeape': 'Fighting',\n",
       " 'Prinplup': 'Water',\n",
       " 'Probopass': 'Rock',\n",
       " 'Psyduck': 'Water',\n",
       " 'Pumpkaboo': 'Ghost',\n",
       " 'Pupitar': 'Rock',\n",
       " 'Purrloin': 'Dark',\n",
       " 'Purugly': 'Normal',\n",
       " 'Pyroar': 'Fire',\n",
       " 'Quagsire': 'Water',\n",
       " 'Quilava': 'Fire',\n",
       " 'Quilladin': 'Grass',\n",
       " 'Qwilfish': 'Water',\n",
       " 'Raichu': 'Electric',\n",
       " 'Raikou': 'Electric',\n",
       " 'Ralts': 'Psychic',\n",
       " 'Rampardos': 'Rock',\n",
       " 'Rapidash': 'Fire',\n",
       " 'Raticate': 'Normal',\n",
       " 'Rattata': 'Normal',\n",
       " 'Rayquaza': 'Dragon',\n",
       " 'Regice': 'Ice',\n",
       " 'Regigigas': 'Normal',\n",
       " 'Regirock': 'Rock',\n",
       " 'Registeel': 'Steel',\n",
       " 'Relicanth': 'Water',\n",
       " 'Remoraid': 'Water',\n",
       " 'Reshiram': 'Dragon',\n",
       " 'Reuniclus': 'Psychic',\n",
       " 'Rhydon': 'Ground',\n",
       " 'Rhyhorn': 'Ground',\n",
       " 'Rhyperior': 'Ground',\n",
       " 'Riolu': 'Fighting',\n",
       " 'Roggenrola': 'Rock',\n",
       " 'Roselia': 'Grass',\n",
       " 'Roserade': 'Grass',\n",
       " 'Rotom': 'Electric',\n",
       " 'Rufflet': 'Normal',\n",
       " 'Sableye': 'Dark',\n",
       " 'Salamence': 'Dragon',\n",
       " 'Samurott': 'Water',\n",
       " 'Sandile': 'Ground',\n",
       " 'Sandshrew': 'Ground',\n",
       " 'Sandslash': 'Ground',\n",
       " 'Sawk': 'Fighting',\n",
       " 'Sawsbuck': 'Normal',\n",
       " 'Scatterbug': 'Bug',\n",
       " 'Sceptile': 'Grass',\n",
       " 'Scizor': 'Bug',\n",
       " 'Scolipede': 'Bug',\n",
       " 'Scrafty': 'Dark',\n",
       " 'Scraggy': 'Dark',\n",
       " 'Scyther': 'Bug',\n",
       " 'Seadra': 'Water',\n",
       " 'Seaking': 'Water',\n",
       " 'Sealeo': 'Ice',\n",
       " 'Seedot': 'Grass',\n",
       " 'Seel': 'Water',\n",
       " 'Seismitoad': 'Water',\n",
       " 'Sentret': 'Normal',\n",
       " 'Serperior': 'Grass',\n",
       " 'Servine': 'Grass',\n",
       " 'Seviper': 'Poison',\n",
       " 'Sewaddle': 'Bug',\n",
       " 'Sharpedo': 'Water',\n",
       " 'Shaymin': 'Grass',\n",
       " 'Shedinja': 'Bug',\n",
       " 'Shelgon': 'Dragon',\n",
       " 'Shellder': 'Water',\n",
       " 'Shellos': 'Water',\n",
       " 'Shelmet': 'Bug',\n",
       " 'Shieldon': 'Rock',\n",
       " 'Shiftry': 'Grass',\n",
       " 'Shinx': 'Electric',\n",
       " 'Shroomish': 'Grass',\n",
       " 'Shuckle': 'Bug',\n",
       " 'Shuppet': 'Ghost',\n",
       " 'Sigilyph': 'Psychic',\n",
       " 'Silcoon': 'Bug',\n",
       " 'Simipour': 'Water',\n",
       " 'Simisage': 'Grass',\n",
       " 'Simisear': 'Fire',\n",
       " 'Skarmory': 'Steel',\n",
       " 'Skiddo': 'Grass',\n",
       " 'Skiploom': 'Grass',\n",
       " 'Skitty': 'Normal',\n",
       " 'Skorupi': 'Poison',\n",
       " 'Skrelp': 'Poison',\n",
       " 'Skuntank': 'Poison',\n",
       " 'Slaking': 'Normal',\n",
       " 'Slakoth': 'Normal',\n",
       " 'Sliggoo': 'Dragon',\n",
       " 'Slowbro': 'Water',\n",
       " 'Slowking': 'Water',\n",
       " 'Slowpoke': 'Water',\n",
       " 'Slugma': 'Fire',\n",
       " 'Slurpuff': 'Fairy',\n",
       " 'Smeargle': 'Normal',\n",
       " 'Smoochum': 'Ice',\n",
       " 'Sneasel': 'Dark',\n",
       " 'Snivy': 'Grass',\n",
       " 'Snorlax': 'Normal',\n",
       " 'Snorunt': 'Ice',\n",
       " 'Snover': 'Grass',\n",
       " 'Snubbull': 'Fairy',\n",
       " 'Solosis': 'Psychic',\n",
       " 'Solrock': 'Rock',\n",
       " 'Spearow': 'Normal',\n",
       " 'Spewpa': 'Bug',\n",
       " 'Spheal': 'Ice',\n",
       " 'Spinarak': 'Bug',\n",
       " 'Spinda': 'Normal',\n",
       " 'Spiritomb': 'Ghost',\n",
       " 'Spoink': 'Psychic',\n",
       " 'Spritzee': 'Fairy',\n",
       " 'Squirtle': 'Water',\n",
       " 'Stantler': 'Normal',\n",
       " 'Staraptor': 'Normal',\n",
       " 'Staravia': 'Normal',\n",
       " 'Starly': 'Normal',\n",
       " 'Starmie': 'Water',\n",
       " 'Staryu': 'Water',\n",
       " 'Steelix': 'Steel',\n",
       " 'Stoutland': 'Normal',\n",
       " 'Stunfisk': 'Ground',\n",
       " 'Stunky': 'Poison',\n",
       " 'Sudowoodo': 'Rock',\n",
       " 'Suicune': 'Water',\n",
       " 'Sunflora': 'Grass',\n",
       " 'Sunkern': 'Grass',\n",
       " 'Surskit': 'Bug',\n",
       " 'Swablu': 'Normal',\n",
       " 'Swadloon': 'Bug',\n",
       " 'Swalot': 'Poison',\n",
       " 'Swampert': 'Water',\n",
       " 'Swanna': 'Water',\n",
       " 'Swellow': 'Normal',\n",
       " 'Swinub': 'Ice',\n",
       " 'Swirlix': 'Fairy',\n",
       " 'Swoobat': 'Psychic',\n",
       " 'Sylveon': 'Fairy',\n",
       " 'Taillow': 'Normal',\n",
       " 'Talonflame': 'Fire',\n",
       " 'Tangela': 'Grass',\n",
       " 'Tangrowth': 'Grass',\n",
       " 'Tauros': 'Normal',\n",
       " 'Teddiursa': 'Normal',\n",
       " 'Tentacool': 'Water',\n",
       " 'Tentacruel': 'Water',\n",
       " 'Tepig': 'Fire',\n",
       " 'Terrakion': 'Rock',\n",
       " 'Throh': 'Fighting',\n",
       " 'Thundurus': 'Electric',\n",
       " 'Timburr': 'Fighting',\n",
       " 'Tirtouga': 'Water',\n",
       " 'Togekiss': 'Fairy',\n",
       " 'Togepi': 'Fairy',\n",
       " 'Togetic': 'Fairy',\n",
       " 'Torchic': 'Fire',\n",
       " 'Torkoal': 'Fire',\n",
       " 'Tornadus': 'Flying',\n",
       " 'Torterra': 'Grass',\n",
       " 'Totodile': 'Water',\n",
       " 'Toxicroak': 'Poison',\n",
       " 'Tranquill': 'Normal',\n",
       " 'Trapinch': 'Ground',\n",
       " 'Treecko': 'Grass',\n",
       " 'Trevenant': 'Ghost',\n",
       " 'Tropius': 'Grass',\n",
       " 'Trubbish': 'Poison',\n",
       " 'Turtwig': 'Grass',\n",
       " 'Tympole': 'Water',\n",
       " 'Tynamo': 'Electric',\n",
       " 'Typhlosion': 'Fire',\n",
       " 'Tyranitar': 'Rock',\n",
       " 'Tyrantrum': 'Rock',\n",
       " 'Tyrogue': 'Fighting',\n",
       " 'Tyrunt': 'Rock',\n",
       " 'Umbreon': 'Dark',\n",
       " 'Unfezant': 'Normal',\n",
       " 'Unown': 'Psychic',\n",
       " 'Ursaring': 'Normal',\n",
       " 'Uxie': 'Psychic',\n",
       " 'Vanillish': 'Ice',\n",
       " 'Vanillite': 'Ice',\n",
       " 'Vanilluxe': 'Ice',\n",
       " 'Vaporeon': 'Water',\n",
       " 'Venipede': 'Bug',\n",
       " 'Venomoth': 'Bug',\n",
       " 'Venonat': 'Bug',\n",
       " 'Venusaur': 'Grass',\n",
       " 'Vespiquen': 'Bug',\n",
       " 'Vibrava': 'Ground',\n",
       " 'Victini': 'Psychic',\n",
       " 'Victreebel': 'Grass',\n",
       " 'Vigoroth': 'Normal',\n",
       " 'Vileplume': 'Grass',\n",
       " 'Virizion': 'Grass',\n",
       " 'Vivillon': 'Bug',\n",
       " 'Volbeat': 'Bug',\n",
       " 'Volcanion': 'Fire',\n",
       " 'Volcarona': 'Bug',\n",
       " 'Voltorb': 'Electric',\n",
       " 'Vullaby': 'Dark',\n",
       " 'Vulpix': 'Fire',\n",
       " 'Wailmer': 'Water',\n",
       " 'Wailord': 'Water',\n",
       " 'Walrein': 'Ice',\n",
       " 'Wartortle': 'Water',\n",
       " 'Watchog': 'Normal',\n",
       " 'Weavile': 'Dark',\n",
       " 'Weedle': 'Bug',\n",
       " 'Weepinbell': 'Grass',\n",
       " 'Weezing': 'Poison',\n",
       " 'Whimsicott': 'Grass',\n",
       " 'Whirlipede': 'Bug',\n",
       " 'Whiscash': 'Water',\n",
       " 'Whismur': 'Normal',\n",
       " 'Wigglytuff': 'Normal',\n",
       " 'Wingull': 'Water',\n",
       " 'Wobbuffet': 'Psychic',\n",
       " 'Woobat': 'Psychic',\n",
       " 'Wooper': 'Water',\n",
       " 'Wormadam': 'Bug',\n",
       " 'Wurmple': 'Bug',\n",
       " 'Wynaut': 'Psychic',\n",
       " 'Xatu': 'Psychic',\n",
       " 'Xerneas': 'Fairy',\n",
       " 'Yamask': 'Ghost',\n",
       " 'Yanma': 'Bug',\n",
       " 'Yanmega': 'Bug',\n",
       " 'Yveltal': 'Dark',\n",
       " 'Zangoose': 'Normal',\n",
       " 'Zapdos': 'Electric',\n",
       " 'Zebstrika': 'Electric',\n",
       " 'Zekrom': 'Dragon',\n",
       " 'Zigzagoon': 'Normal',\n",
       " 'Zoroark': 'Dark',\n",
       " 'Zorua': 'Dark',\n",
       " 'Zubat': 'Poison',\n",
       " 'Zweilous': 'Dark',\n",
       " 'Zygarde': 'Dragon'}"
      ]
     },
     "execution_count": 47,
     "metadata": {},
     "output_type": "execute_result"
    }
   ],
   "source": [
    "p_type"
   ]
  },
  {
   "cell_type": "code",
   "execution_count": 48,
   "metadata": {
    "collapsed": true
   },
   "outputs": [
    {
     "data": {
      "text/plain": [
       "0         Grass\n",
       "1         Grass\n",
       "2         Grass\n",
       "3          Fire\n",
       "4          Fire\n",
       "5          Fire\n",
       "6         Water\n",
       "7         Water\n",
       "8         Water\n",
       "9           Bug\n",
       "10          Bug\n",
       "11          Bug\n",
       "12          Bug\n",
       "13          Bug\n",
       "14          Bug\n",
       "15       Normal\n",
       "16       Normal\n",
       "17       Normal\n",
       "18       Normal\n",
       "19       Normal\n",
       "20       Normal\n",
       "21       Normal\n",
       "22       Poison\n",
       "23       Poison\n",
       "24     Electric\n",
       "25     Electric\n",
       "26       Ground\n",
       "27       Ground\n",
       "28       Poison\n",
       "29       Poison\n",
       "         ...   \n",
       "691       Water\n",
       "692       Water\n",
       "693    Electric\n",
       "694    Electric\n",
       "695        Rock\n",
       "696        Rock\n",
       "697        Rock\n",
       "698        Rock\n",
       "699       Fairy\n",
       "700    Fighting\n",
       "701    Electric\n",
       "702        Rock\n",
       "703      Dragon\n",
       "704      Dragon\n",
       "705      Dragon\n",
       "706       Steel\n",
       "707       Ghost\n",
       "708       Ghost\n",
       "709       Ghost\n",
       "710       Ghost\n",
       "711         Ice\n",
       "712         Ice\n",
       "713      Flying\n",
       "714      Flying\n",
       "715       Fairy\n",
       "716        Dark\n",
       "717      Dragon\n",
       "718        Rock\n",
       "719     Psychic\n",
       "720        Fire\n",
       "Name: Pokemon, Length: 721, dtype: object"
      ]
     },
     "execution_count": 48,
     "metadata": {},
     "output_type": "execute_result"
    }
   ],
   "source": [
    "p_name.map(p_type)"
   ]
  },
  {
   "cell_type": "code",
   "execution_count": null,
   "metadata": {
    "collapsed": true
   },
   "outputs": [],
   "source": []
  }
 ],
 "metadata": {
  "kernelspec": {
   "display_name": "Python 3",
   "language": "python",
   "name": "python3"
  },
  "language_info": {
   "codemirror_mode": {
    "name": "ipython",
    "version": 3
   },
   "file_extension": ".py",
   "mimetype": "text/x-python",
   "name": "python",
   "nbconvert_exporter": "python",
   "pygments_lexer": "ipython3",
   "version": "3.6.2"
  }
 },
 "nbformat": 4,
 "nbformat_minor": 2
}
